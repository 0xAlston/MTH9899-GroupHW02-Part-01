{
 "cells": [
  {
   "attachments": {},
   "cell_type": "markdown",
   "metadata": {},
   "source": [
    "# MTH 9899 Homework 2\n",
    " \n",
    "Task 0: Data Preparation\n",
    "\n",
    "@author Xuebin(Alston) Gui\n",
    "\n",
    "In this script, we will prepare the data for the analysis. We will first load the data for each date, and then merge them into one dataframe. We will also make the date column to be a datetime object instead of an int as it is now."
   ]
  },
  {
   "cell_type": "code",
   "execution_count": 1,
   "metadata": {},
   "outputs": [],
   "source": [
    "\n",
    "\n",
    "import pandas as pd\n",
    "import numpy as np\n",
    "import os\n",
    "import glob\n",
    "import datetime\n",
    "import time\n",
    "import matplotlib.pyplot as plt\n",
    "import seaborn as sns\n",
    "import warnings\n",
    "warnings.filterwarnings('ignore')\n"
   ]
  },
  {
   "cell_type": "code",
   "execution_count": 2,
   "metadata": {},
   "outputs": [],
   "source": [
    "\n",
    "# read all the files in the folder hw2 and store them in a pandas dataframe\n",
    "# each file will have the following columns:\n",
    "# Date,ID,SYMBOL,MIC,FREE_FLOAT_PERCENTAGE,EST_VOL,MDV_63,Open,High,Low,Close,Volume,PxAdjFactor,SharesAdjFactor\n",
    "# the data is stored in a folder called hw2\n",
    "# and the file name range from dat.20101004.csv to dat.20141231.csv\n",
    "\n",
    "# read all the files in the folder hw2 and store them in a pandas dataframe\n",
    "\n",
    "path = r'hw2' # use your path\n",
    "all_files = glob.glob(path + \"/*.csv\")\n",
    "\n",
    "\n",
    "df = pd.DataFrame()\n",
    "for f in all_files:\n",
    "    df = df.append(pd.read_csv(f, header=0, names=['Date','ID','SYMBOL','MIC','FREE_FLOAT_PERCENTAGE','EST_VOL','MDV_63','Open','High','Low','Close','Volume','PxAdjFactor','SharesAdjFactor']))\n",
    "\n",
    "df.sort_values(by=['Date','ID'], inplace=True)   \n",
    "df.reset_index(drop=True, inplace=True)"
   ]
  },
  {
   "cell_type": "code",
   "execution_count": 3,
   "metadata": {},
   "outputs": [
    {
     "data": {
      "text/html": [
       "<div>\n",
       "<style scoped>\n",
       "    .dataframe tbody tr th:only-of-type {\n",
       "        vertical-align: middle;\n",
       "    }\n",
       "\n",
       "    .dataframe tbody tr th {\n",
       "        vertical-align: top;\n",
       "    }\n",
       "\n",
       "    .dataframe thead th {\n",
       "        text-align: right;\n",
       "    }\n",
       "</style>\n",
       "<table border=\"1\" class=\"dataframe\">\n",
       "  <thead>\n",
       "    <tr style=\"text-align: right;\">\n",
       "      <th></th>\n",
       "      <th>Date</th>\n",
       "      <th>ID</th>\n",
       "      <th>SYMBOL</th>\n",
       "      <th>MIC</th>\n",
       "      <th>FREE_FLOAT_PERCENTAGE</th>\n",
       "      <th>EST_VOL</th>\n",
       "      <th>MDV_63</th>\n",
       "      <th>Open</th>\n",
       "      <th>High</th>\n",
       "      <th>Low</th>\n",
       "      <th>Close</th>\n",
       "      <th>Volume</th>\n",
       "      <th>PxAdjFactor</th>\n",
       "      <th>SharesAdjFactor</th>\n",
       "    </tr>\n",
       "  </thead>\n",
       "  <tbody>\n",
       "    <tr>\n",
       "      <th>0</th>\n",
       "      <td>20100104</td>\n",
       "      <td>BBG000B9WH86</td>\n",
       "      <td>AA</td>\n",
       "      <td>XNYS</td>\n",
       "      <td>99.7169</td>\n",
       "      <td>0.17017</td>\n",
       "      <td>3.920905e+08</td>\n",
       "      <td>16.47</td>\n",
       "      <td>16.89</td>\n",
       "      <td>16.40</td>\n",
       "      <td>16.65</td>\n",
       "      <td>25872368.0</td>\n",
       "      <td>1.059996</td>\n",
       "      <td>1.0</td>\n",
       "    </tr>\n",
       "    <tr>\n",
       "      <th>1</th>\n",
       "      <td>20100104</td>\n",
       "      <td>BBG000B9WJ73</td>\n",
       "      <td>ACI</td>\n",
       "      <td>XNYS</td>\n",
       "      <td>99.6263</td>\n",
       "      <td>0.15981</td>\n",
       "      <td>9.449197e+07</td>\n",
       "      <td>22.59</td>\n",
       "      <td>23.49</td>\n",
       "      <td>22.54</td>\n",
       "      <td>23.48</td>\n",
       "      <td>3938765.0</td>\n",
       "      <td>1.032174</td>\n",
       "      <td>1.0</td>\n",
       "    </tr>\n",
       "    <tr>\n",
       "      <th>2</th>\n",
       "      <td>20100104</td>\n",
       "      <td>BBG000B9XRY4</td>\n",
       "      <td>AAPL</td>\n",
       "      <td>XNGS</td>\n",
       "      <td>99.2587</td>\n",
       "      <td>0.17121</td>\n",
       "      <td>3.221198e+09</td>\n",
       "      <td>213.43</td>\n",
       "      <td>214.50</td>\n",
       "      <td>212.38</td>\n",
       "      <td>214.01</td>\n",
       "      <td>17540156.0</td>\n",
       "      <td>1.000000</td>\n",
       "      <td>1.0</td>\n",
       "    </tr>\n",
       "    <tr>\n",
       "      <th>3</th>\n",
       "      <td>20100104</td>\n",
       "      <td>BBG000B9XYV2</td>\n",
       "      <td>AMT</td>\n",
       "      <td>XNYS</td>\n",
       "      <td>99.9300</td>\n",
       "      <td>0.10602</td>\n",
       "      <td>1.030392e+08</td>\n",
       "      <td>43.49</td>\n",
       "      <td>43.89</td>\n",
       "      <td>43.28</td>\n",
       "      <td>43.46</td>\n",
       "      <td>2750483.0</td>\n",
       "      <td>1.000000</td>\n",
       "      <td>1.0</td>\n",
       "    </tr>\n",
       "    <tr>\n",
       "      <th>4</th>\n",
       "      <td>20100104</td>\n",
       "      <td>BBG000B9YJ35</td>\n",
       "      <td>APH</td>\n",
       "      <td>XNYS</td>\n",
       "      <td>99.8885</td>\n",
       "      <td>0.15031</td>\n",
       "      <td>5.032276e+07</td>\n",
       "      <td>47.01</td>\n",
       "      <td>47.01</td>\n",
       "      <td>45.91</td>\n",
       "      <td>45.94</td>\n",
       "      <td>1228549.0</td>\n",
       "      <td>1.003591</td>\n",
       "      <td>1.0</td>\n",
       "    </tr>\n",
       "  </tbody>\n",
       "</table>\n",
       "</div>"
      ],
      "text/plain": [
       "       Date            ID SYMBOL   MIC  FREE_FLOAT_PERCENTAGE  EST_VOL  \\\n",
       "0  20100104  BBG000B9WH86     AA  XNYS                99.7169  0.17017   \n",
       "1  20100104  BBG000B9WJ73    ACI  XNYS                99.6263  0.15981   \n",
       "2  20100104  BBG000B9XRY4   AAPL  XNGS                99.2587  0.17121   \n",
       "3  20100104  BBG000B9XYV2    AMT  XNYS                99.9300  0.10602   \n",
       "4  20100104  BBG000B9YJ35    APH  XNYS                99.8885  0.15031   \n",
       "\n",
       "         MDV_63    Open    High     Low   Close      Volume  PxAdjFactor  \\\n",
       "0  3.920905e+08   16.47   16.89   16.40   16.65  25872368.0     1.059996   \n",
       "1  9.449197e+07   22.59   23.49   22.54   23.48   3938765.0     1.032174   \n",
       "2  3.221198e+09  213.43  214.50  212.38  214.01  17540156.0     1.000000   \n",
       "3  1.030392e+08   43.49   43.89   43.28   43.46   2750483.0     1.000000   \n",
       "4  5.032276e+07   47.01   47.01   45.91   45.94   1228549.0     1.003591   \n",
       "\n",
       "   SharesAdjFactor  \n",
       "0              1.0  \n",
       "1              1.0  \n",
       "2              1.0  \n",
       "3              1.0  \n",
       "4              1.0  "
      ]
     },
     "execution_count": 3,
     "metadata": {},
     "output_type": "execute_result"
    }
   ],
   "source": [
    "df.head()"
   ]
  },
  {
   "cell_type": "code",
   "execution_count": 4,
   "metadata": {},
   "outputs": [
    {
     "data": {
      "text/plain": [
       "Date                       int64\n",
       "ID                        object\n",
       "SYMBOL                    object\n",
       "MIC                       object\n",
       "FREE_FLOAT_PERCENTAGE    float64\n",
       "EST_VOL                  float64\n",
       "MDV_63                   float64\n",
       "Open                     float64\n",
       "High                     float64\n",
       "Low                      float64\n",
       "Close                    float64\n",
       "Volume                   float64\n",
       "PxAdjFactor              float64\n",
       "SharesAdjFactor          float64\n",
       "dtype: object"
      ]
     },
     "execution_count": 4,
     "metadata": {},
     "output_type": "execute_result"
    }
   ],
   "source": [
    "df.dtypes"
   ]
  },
  {
   "cell_type": "code",
   "execution_count": 5,
   "metadata": {},
   "outputs": [],
   "source": [
    "df['Date'] = pd.to_datetime(df['Date'], format='%Y%m%d')"
   ]
  },
  {
   "cell_type": "code",
   "execution_count": 6,
   "metadata": {},
   "outputs": [],
   "source": [
    "df.to_csv('hw2.csv', index=False)"
   ]
  },
  {
   "cell_type": "code",
   "execution_count": null,
   "metadata": {},
   "outputs": [],
   "source": []
  }
 ],
 "metadata": {
  "kernelspec": {
   "display_name": "base",
   "language": "python",
   "name": "python3"
  },
  "language_info": {
   "codemirror_mode": {
    "name": "ipython",
    "version": 3
   },
   "file_extension": ".py",
   "mimetype": "text/x-python",
   "name": "python",
   "nbconvert_exporter": "python",
   "pygments_lexer": "ipython3",
   "version": "3.7.16"
  },
  "orig_nbformat": 4,
  "vscode": {
   "interpreter": {
    "hash": "358031e9189c562cd33842935f2143af474e257910867b257acba5ccf6226926"
   }
  }
 },
 "nbformat": 4,
 "nbformat_minor": 2
}
